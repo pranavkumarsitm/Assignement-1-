{
 "cells": [
  {
   "cell_type": "raw",
   "id": "a634edc0-444a-4316-9d8b-9d367b534fcc",
   "metadata": {},
   "source": [
    "Q1. Create one variable containing following type of data:\n",
    "(i) string\n",
    "(ii) list\n",
    "(iii) float\n",
    "(iv) tuple"
   ]
  },
  {
   "cell_type": "raw",
   "id": "10997b3b-5ee2-4321-83c0-7ef22e7685f5",
   "metadata": {},
   "source": [
    "Ans. (i) string"
   ]
  },
  {
   "cell_type": "code",
   "execution_count": 2,
   "id": "58e3edf1-f264-41a0-9b02-125e11b63127",
   "metadata": {},
   "outputs": [],
   "source": [
    "s = \"Kumar\""
   ]
  },
  {
   "cell_type": "raw",
   "id": "73b067f2-bb26-47e0-a583-d380384ec905",
   "metadata": {},
   "source": [
    "Ans. (ii) list"
   ]
  },
  {
   "cell_type": "code",
   "execution_count": 3,
   "id": "60f7f3ae-56b1-4acc-a7ba-54c993b063e3",
   "metadata": {},
   "outputs": [],
   "source": [
    "l = [3,4,2,55, True, 6+8j, \"you\", 45.67]"
   ]
  },
  {
   "cell_type": "raw",
   "id": "6922ba27-66fd-45f4-a5b7-6d43944e140f",
   "metadata": {},
   "source": [
    "Ans. (iii) float"
   ]
  },
  {
   "cell_type": "code",
   "execution_count": 4,
   "id": "ed078824-930a-43d1-839a-bcb917cf0466",
   "metadata": {},
   "outputs": [],
   "source": [
    "f = 45.89"
   ]
  },
  {
   "cell_type": "raw",
   "id": "663f0e93-704a-4665-8c3d-527e9162300b",
   "metadata": {},
   "source": [
    "Ans. (iv) tuple"
   ]
  },
  {
   "cell_type": "code",
   "execution_count": 5,
   "id": "2ccafa3c-9c77-420f-8812-9635168bbcaf",
   "metadata": {},
   "outputs": [],
   "source": [
    "t = (6,3,44,56, \"kumar\", False, 5+4j, 65.45)"
   ]
  },
  {
   "cell_type": "code",
   "execution_count": null,
   "id": "1fe018cf-7427-4326-8a03-e5b3d5201cca",
   "metadata": {},
   "outputs": [],
   "source": []
  },
  {
   "cell_type": "raw",
   "id": "04e78f24-b206-4abc-9df1-a8d6ec22148d",
   "metadata": {},
   "source": [
    "Q2. Given are some following variables containing data:\n",
    "(i) var1=''\n",
    "(ii) var2 ='[DS, ML, Python]'\n",
    "(iii) var3 = ['DS', 'ML', 'python']\n",
    "(iv) var4 = 1.\n",
    "what will be the data type of the above given variable."
   ]
  },
  {
   "cell_type": "raw",
   "id": "6b13e2a2-6858-4372-8610-4ea8ac933831",
   "metadata": {},
   "source": [
    "Ans. (i) var=''"
   ]
  },
  {
   "cell_type": "code",
   "execution_count": 6,
   "id": "c16a6629-a5e6-4a56-a243-a050424e9331",
   "metadata": {},
   "outputs": [
    {
     "data": {
      "text/plain": [
       "str"
      ]
     },
     "execution_count": 6,
     "metadata": {},
     "output_type": "execute_result"
    }
   ],
   "source": [
    "var=''\n",
    "type(var)"
   ]
  },
  {
   "cell_type": "raw",
   "id": "edc33ad3-997d-42a0-97a6-d3e774b4f54f",
   "metadata": {},
   "source": [
    "Ans. (ii) var2 ='[DS, ML, Python]'"
   ]
  },
  {
   "cell_type": "code",
   "execution_count": 7,
   "id": "6141aba8-2b23-436f-8986-d28adca2a72d",
   "metadata": {},
   "outputs": [
    {
     "data": {
      "text/plain": [
       "str"
      ]
     },
     "execution_count": 7,
     "metadata": {},
     "output_type": "execute_result"
    }
   ],
   "source": [
    "var2 ='[DS, ML, Python]'\n",
    "type(var2)"
   ]
  },
  {
   "cell_type": "raw",
   "id": "c0454b0a-cf27-4e75-a253-b6f3705b4be4",
   "metadata": {},
   "source": [
    "Ans. (iii) var3 = ['DS', 'ML', 'python']"
   ]
  },
  {
   "cell_type": "code",
   "execution_count": 8,
   "id": "9a35b5e3-3de9-498b-8c70-46a6a907058e",
   "metadata": {},
   "outputs": [
    {
     "data": {
      "text/plain": [
       "list"
      ]
     },
     "execution_count": 8,
     "metadata": {},
     "output_type": "execute_result"
    }
   ],
   "source": [
    "var3 = ['DS', 'ML', 'python']\n",
    "type(var3)"
   ]
  },
  {
   "cell_type": "raw",
   "id": "6f4e14d9-a862-4c67-965a-8a980fd0fc9a",
   "metadata": {},
   "source": [
    "Ans. (iv) var4 = 1."
   ]
  },
  {
   "cell_type": "code",
   "execution_count": 9,
   "id": "c37300ef-6e26-48b8-a43a-9a075ce46103",
   "metadata": {},
   "outputs": [
    {
     "data": {
      "text/plain": [
       "int"
      ]
     },
     "execution_count": 9,
     "metadata": {},
     "output_type": "execute_result"
    }
   ],
   "source": [
    "var4 = 1\n",
    "type(var4)"
   ]
  },
  {
   "cell_type": "code",
   "execution_count": null,
   "id": "23442745-0916-43b9-b13a-73054ccf812d",
   "metadata": {},
   "outputs": [],
   "source": []
  },
  {
   "cell_type": "raw",
   "id": "07034090-96d2-4787-b60d-7ce6561818f1",
   "metadata": {},
   "source": [
    "Q3. Explain the use of the following operators using an example:\n",
    "(i) /\n",
    "(ii) %\n",
    "(iii) //\n",
    "(iv) **"
   ]
  },
  {
   "cell_type": "raw",
   "id": "9ca6997c-39e8-478b-b238-5c2a7b5a1ae1",
   "metadata": {},
   "source": [
    "Ans. (i) / operator for division"
   ]
  },
  {
   "cell_type": "code",
   "execution_count": 11,
   "id": "dbf87396-ca9b-4224-82cd-720f543539b9",
   "metadata": {},
   "outputs": [
    {
     "data": {
      "text/plain": [
       "2.0"
      ]
     },
     "execution_count": 11,
     "metadata": {},
     "output_type": "execute_result"
    }
   ],
   "source": [
    "6/3"
   ]
  },
  {
   "cell_type": "raw",
   "id": "40577437-aca0-4ebd-86d8-5043726c030a",
   "metadata": {},
   "source": [
    "Ans. (ii) % operator for reminder"
   ]
  },
  {
   "cell_type": "code",
   "execution_count": 12,
   "id": "8fa3ef93-02a0-425e-b4b3-db0d94019ef5",
   "metadata": {},
   "outputs": [
    {
     "data": {
      "text/plain": [
       "1"
      ]
     },
     "execution_count": 12,
     "metadata": {},
     "output_type": "execute_result"
    }
   ],
   "source": [
    "10%3"
   ]
  },
  {
   "cell_type": "raw",
   "id": "63e3f863-81cd-48c2-9bd4-4fc067638489",
   "metadata": {},
   "source": [
    "Ans. (iii) // operator for floor division"
   ]
  },
  {
   "cell_type": "code",
   "execution_count": 14,
   "id": "8c1e6f72-e4a7-4744-a75d-fcda14520615",
   "metadata": {},
   "outputs": [
    {
     "data": {
      "text/plain": [
       "3"
      ]
     },
     "execution_count": 14,
     "metadata": {},
     "output_type": "execute_result"
    }
   ],
   "source": [
    "15//4"
   ]
  },
  {
   "cell_type": "raw",
   "id": "4392fbb1-1ad0-4a31-9c69-c29f10b040e7",
   "metadata": {},
   "source": [
    "Ans. (iv) ** operator for sqaure"
   ]
  },
  {
   "cell_type": "code",
   "execution_count": 15,
   "id": "5c69661a-940b-4df6-9f94-0e2e8921cf64",
   "metadata": {},
   "outputs": [
    {
     "data": {
      "text/plain": [
       "625"
      ]
     },
     "execution_count": 15,
     "metadata": {},
     "output_type": "execute_result"
    }
   ],
   "source": [
    "5**4"
   ]
  },
  {
   "cell_type": "code",
   "execution_count": null,
   "id": "930a362c-f4ac-4b4b-a2d5-bedec636dfb9",
   "metadata": {},
   "outputs": [],
   "source": []
  },
  {
   "cell_type": "raw",
   "id": "69680405-0c85-457c-aa0b-c99621f5d18b",
   "metadata": {},
   "source": [
    "Q4. Create a list of length 10 of your choice contaning multiple types of data. Using loop print the element and its data type."
   ]
  },
  {
   "cell_type": "code",
   "execution_count": 16,
   "id": "c4c0cab6-cc30-49ee-8f0e-32b4fa7cad84",
   "metadata": {},
   "outputs": [],
   "source": [
    "m = [42, 23, \"ram\",'gyani', 6+5j, 7j, True, False, 56.76, 45.34]"
   ]
  },
  {
   "cell_type": "code",
   "execution_count": 17,
   "id": "a1230f38-9a1b-46a0-b543-6499190b0928",
   "metadata": {},
   "outputs": [
    {
     "data": {
      "text/plain": [
       "[42, 23, 'ram', 'gyani', (6+5j), 7j, True, False, 56.76, 45.34]"
      ]
     },
     "execution_count": 17,
     "metadata": {},
     "output_type": "execute_result"
    }
   ],
   "source": [
    "m"
   ]
  },
  {
   "cell_type": "code",
   "execution_count": 18,
   "id": "597a3d29-6a4e-4e9b-9436-457999c7f248",
   "metadata": {},
   "outputs": [
    {
     "name": "stdout",
     "output_type": "stream",
     "text": [
      "<class 'int'>\n",
      "<class 'int'>\n",
      "<class 'str'>\n",
      "<class 'str'>\n",
      "<class 'complex'>\n",
      "<class 'complex'>\n",
      "<class 'bool'>\n",
      "<class 'bool'>\n",
      "<class 'float'>\n",
      "<class 'float'>\n"
     ]
    }
   ],
   "source": [
    "for i in m:\n",
    "    print(type(i))"
   ]
  },
  {
   "cell_type": "code",
   "execution_count": null,
   "id": "c54f32f0-d76c-417c-be39-c5dfdb5e564c",
   "metadata": {},
   "outputs": [],
   "source": []
  },
  {
   "cell_type": "raw",
   "id": "3b725788-46d2-4e36-881c-913464e8f1db",
   "metadata": {},
   "source": [
    "Q5. Using a while loop, verify if the number A is purely divisible by number B and if so then how many times it can be divisible."
   ]
  },
  {
   "cell_type": "code",
   "execution_count": 6,
   "id": "0bb1be05-ee80-47a3-a3eb-dbcc941bc8ab",
   "metadata": {},
   "outputs": [
    {
     "name": "stdin",
     "output_type": "stream",
     "text": [
      " 45\n",
      " 5\n"
     ]
    }
   ],
   "source": [
    "a = int(input())\n",
    "b = int(input())\n",
    "c = a//b\n",
    "while c == 0:\n",
    "    print(\"a is purely divisible by b\", c)\n"
   ]
  },
  {
   "cell_type": "code",
   "execution_count": 8,
   "id": "5b1cb545-d272-4eff-a2f2-79e358bfead8",
   "metadata": {},
   "outputs": [],
   "source": []
  },
  {
   "cell_type": "raw",
   "id": "a5e74a1f-f1e5-4f0e-b646-c36cfa8821b8",
   "metadata": {},
   "source": []
  },
  {
   "cell_type": "code",
   "execution_count": null,
   "id": "e1ce2f79-d97b-4a25-9331-d67285a7c9ba",
   "metadata": {},
   "outputs": [],
   "source": [
    "\n"
   ]
  },
  {
   "cell_type": "code",
   "execution_count": null,
   "id": "4fe4875a-91e1-4b36-b73b-baef20749a12",
   "metadata": {},
   "outputs": [],
   "source": []
  },
  {
   "cell_type": "raw",
   "id": "bc293b15-1d41-42f7-a134-f70b4bb7f4c0",
   "metadata": {},
   "source": [
    "Q6. Create a list containg 25 int type data. Using for loop and if-else condition print if the element is divisible by 3 or not."
   ]
  },
  {
   "cell_type": "code",
   "execution_count": 50,
   "id": "d4d2db34-dc03-4e34-a29a-02c39ba518b9",
   "metadata": {},
   "outputs": [],
   "source": [
    "v = [12, 4, 43, 23, 56, 34, 45, 90, 89, 78, 56, 54, 12, 14, 16, 19, 23, 25, 27, 28, 32, 35, 41, 47, 98]"
   ]
  },
  {
   "cell_type": "code",
   "execution_count": 51,
   "id": "60e4e788-190d-4c78-bb37-c27830c72e31",
   "metadata": {},
   "outputs": [
    {
     "data": {
      "text/plain": [
       "[12,\n",
       " 4,\n",
       " 43,\n",
       " 23,\n",
       " 56,\n",
       " 34,\n",
       " 45,\n",
       " 90,\n",
       " 89,\n",
       " 78,\n",
       " 56,\n",
       " 54,\n",
       " 12,\n",
       " 14,\n",
       " 16,\n",
       " 19,\n",
       " 23,\n",
       " 25,\n",
       " 27,\n",
       " 28,\n",
       " 32,\n",
       " 35,\n",
       " 41,\n",
       " 47,\n",
       " 98]"
      ]
     },
     "execution_count": 51,
     "metadata": {},
     "output_type": "execute_result"
    }
   ],
   "source": [
    "v"
   ]
  },
  {
   "cell_type": "code",
   "execution_count": 55,
   "id": "51854a22-55b2-462f-88a9-c55a16dc1a71",
   "metadata": {},
   "outputs": [
    {
     "name": "stdout",
     "output_type": "stream",
     "text": [
      "12\n",
      "m is divisible by 3\n",
      "4\n",
      "m is not divisible by 3\n",
      "43\n",
      "m is not divisible by 3\n",
      "23\n",
      "m is not divisible by 3\n",
      "56\n",
      "m is not divisible by 3\n",
      "34\n",
      "m is not divisible by 3\n",
      "45\n",
      "m is divisible by 3\n",
      "90\n",
      "m is divisible by 3\n",
      "89\n",
      "m is not divisible by 3\n",
      "78\n",
      "m is divisible by 3\n",
      "56\n",
      "m is not divisible by 3\n",
      "54\n",
      "m is divisible by 3\n",
      "12\n",
      "m is divisible by 3\n",
      "14\n",
      "m is not divisible by 3\n",
      "16\n",
      "m is not divisible by 3\n",
      "19\n",
      "m is not divisible by 3\n",
      "23\n",
      "m is not divisible by 3\n",
      "25\n",
      "m is not divisible by 3\n",
      "27\n",
      "m is divisible by 3\n",
      "28\n",
      "m is not divisible by 3\n",
      "32\n",
      "m is not divisible by 3\n",
      "35\n",
      "m is not divisible by 3\n",
      "41\n",
      "m is not divisible by 3\n",
      "47\n",
      "m is not divisible by 3\n",
      "98\n",
      "m is not divisible by 3\n"
     ]
    }
   ],
   "source": [
    "for m in v: \n",
    "    print(m)\n",
    "    if  m % 3 == 0:\n",
    "        print(\"m is divisible by 3\")\n",
    "    elif m % 3 != 0:\n",
    "        print(\"m is not divisible by 3\")\n",
    "    else:\n",
    "        print(\"list is completed\")"
   ]
  },
  {
   "cell_type": "code",
   "execution_count": null,
   "id": "43425896-0699-4553-a3db-ab61eddea3d4",
   "metadata": {},
   "outputs": [],
   "source": []
  },
  {
   "cell_type": "raw",
   "id": "2dbff75f-5ddc-403e-847b-1ab92a4e8f7a",
   "metadata": {},
   "source": [
    "Q7. What do you understand about mutable and immutable data types? Given examples for both showing this property."
   ]
  },
  {
   "cell_type": "raw",
   "id": "4f2d8bd9-1cbf-4295-9e9a-414f3102c295",
   "metadata": {},
   "source": [
    "Mutable data type is we can edit existing data and immutable data type we can't edit in existing data. eg. \"list\" is mutuable data type and \"string\" is immutable data type."
   ]
  },
  {
   "cell_type": "code",
   "execution_count": 21,
   "id": "0a25f31b-baa9-4bfc-bb3d-0154c350be42",
   "metadata": {},
   "outputs": [],
   "source": [
    "g = [42, \"ram\",'gyani', 6+5j, 7j, True, 45.34]"
   ]
  },
  {
   "cell_type": "code",
   "execution_count": 22,
   "id": "c67685b0-0966-4ae6-b6c7-4eedf0136f29",
   "metadata": {},
   "outputs": [
    {
     "data": {
      "text/plain": [
       "[42, 'ram', 'gyani', (6+5j), 7j, True, 45.34]"
      ]
     },
     "execution_count": 22,
     "metadata": {},
     "output_type": "execute_result"
    }
   ],
   "source": [
    "g"
   ]
  },
  {
   "cell_type": "code",
   "execution_count": 24,
   "id": "34aa11fb-0080-4b42-b736-e119a81acd1a",
   "metadata": {},
   "outputs": [],
   "source": [
    "g[2] = \"Sohan\""
   ]
  },
  {
   "cell_type": "code",
   "execution_count": 25,
   "id": "70b5fbcf-c739-40a3-a4bc-e205695efe7e",
   "metadata": {},
   "outputs": [
    {
     "data": {
      "text/plain": [
       "[42, 'ram', 'Sohan', (6+5j), 7j, True, 45.34]"
      ]
     },
     "execution_count": 25,
     "metadata": {},
     "output_type": "execute_result"
    }
   ],
   "source": [
    "g"
   ]
  },
  {
   "cell_type": "raw",
   "id": "336cba94-cbc7-406b-a0f0-f2d1cf4d5443",
   "metadata": {},
   "source": [
    "in list we are able to replace gyany to sohan. this is example of mutable type."
   ]
  },
  {
   "cell_type": "code",
   "execution_count": 26,
   "id": "18375147-82a4-4591-9605-bb0b7639eff6",
   "metadata": {},
   "outputs": [],
   "source": [
    "s = \"Ramesh\""
   ]
  },
  {
   "cell_type": "code",
   "execution_count": 27,
   "id": "5525b750-9c09-42de-a8bd-3b5de599271d",
   "metadata": {},
   "outputs": [
    {
     "data": {
      "text/plain": [
       "'Ramesh'"
      ]
     },
     "execution_count": 27,
     "metadata": {},
     "output_type": "execute_result"
    }
   ],
   "source": [
    "s"
   ]
  },
  {
   "cell_type": "code",
   "execution_count": 29,
   "id": "5319ffc5-a50d-497a-83f8-c7cdcbdeb4f0",
   "metadata": {},
   "outputs": [
    {
     "ename": "TypeError",
     "evalue": "'str' object does not support item assignment",
     "output_type": "error",
     "traceback": [
      "\u001b[0;31m---------------------------------------------------------------------------\u001b[0m",
      "\u001b[0;31mTypeError\u001b[0m                                 Traceback (most recent call last)",
      "Cell \u001b[0;32mIn[29], line 1\u001b[0m\n\u001b[0;32m----> 1\u001b[0m \u001b[43ms\u001b[49m\u001b[43m \u001b[49m\u001b[43m[\u001b[49m\u001b[38;5;241;43m2\u001b[39;49m\u001b[43m]\u001b[49m \u001b[38;5;241m=\u001b[39m e\n",
      "\u001b[0;31mTypeError\u001b[0m: 'str' object does not support item assignment"
     ]
    }
   ],
   "source": [
    "s [2] = e"
   ]
  },
  {
   "cell_type": "raw",
   "id": "aaa96ef0-717f-46c7-a459-2a0ab5940947",
   "metadata": {},
   "source": [
    "in string type we can't replace e from m. so this is example of immutable type."
   ]
  },
  {
   "cell_type": "code",
   "execution_count": null,
   "id": "f59fee95-69de-4b3b-9358-e51df6acf9ea",
   "metadata": {},
   "outputs": [],
   "source": []
  }
 ],
 "metadata": {
  "kernelspec": {
   "display_name": "Python 3 (ipykernel)",
   "language": "python",
   "name": "python3"
  },
  "language_info": {
   "codemirror_mode": {
    "name": "ipython",
    "version": 3
   },
   "file_extension": ".py",
   "mimetype": "text/x-python",
   "name": "python",
   "nbconvert_exporter": "python",
   "pygments_lexer": "ipython3",
   "version": "3.10.8"
  }
 },
 "nbformat": 4,
 "nbformat_minor": 5
}
